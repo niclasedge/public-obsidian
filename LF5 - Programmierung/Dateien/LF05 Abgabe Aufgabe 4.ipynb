{
 "cells": [
  {
   "cell_type": "markdown",
   "metadata": {},
   "source": [
    "# Aufgabe 4 Jahreszahl ermitteln\n",
    "Schreiben Sie ein Skript, welches bei Eingabe einer Jahreszahl ermittelt, ob in diesem Jahr eine Europa- oder Weltmeisterschaft in Fußball stattfand bzw. stattgefunden hat.\n",
    "-  Europameisterschaften finden seit 1958 in allen Jahren statt, deren Jahreszahl sich ganzzahlig durch 4 teilen lassen (z.B. 2008; 2012; ..).\n",
    "- Um 2 Jahre versetzt findet alle vier Jahre die Fußball-Weltmeisterschaft statt (seit 1930).\n",
    "- Berücksichtigen Sie, dass die EM 2020 auf das Jahr 2021 verschoben wurde."
   ]
  },
  {
   "cell_type": "code",
   "execution_count": 2,
   "metadata": {},
   "outputs": [
    {
     "name": "stdout",
     "output_type": "stream",
     "text": [
      "Geben Sie eine Jahreszahl ein: 2020\n",
      "Die EM2020 wurde aus Coronagründen auf 2021 verschoben\n"
     ]
    }
   ],
   "source": [
    "jahr = int(input(\"Geben Sie eine Jahreszahl ein: \"))\n",
    "\n",
    "if jahr%4 == 0 and jahr >= 1960 and jahr != 2020:\n",
    "    print(\"EM Jahr\")\n",
    "elif (jahr-2)%4 == 0 and jahr >= 1930:\n",
    "    print(\"WM Jahr\")\n",
    "elif jahr == 2020:\n",
    "    print(\"Die EM2020 wurde aus Coronagründen auf 2021 verschoben\")\n",
    "\n",
    "else:\n",
    "    print(\"keine EM oder WM in diesem Jahr\")\n",
    "    \n",
    "\n"
   ]
  }
 ],
 "metadata": {
  "kernelspec": {
   "display_name": "Python 3",
   "language": "python",
   "name": "python3"
  },
  "language_info": {
   "codemirror_mode": {
    "name": "ipython",
    "version": 3
   },
   "file_extension": ".py",
   "mimetype": "text/x-python",
   "name": "python",
   "nbconvert_exporter": "python",
   "pygments_lexer": "ipython3",
   "version": "3.6.12"
  }
 },
 "nbformat": 4,
 "nbformat_minor": 2
}
