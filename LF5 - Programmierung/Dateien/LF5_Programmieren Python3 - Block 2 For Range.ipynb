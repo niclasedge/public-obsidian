{
 "cells": [
  {
   "cell_type": "markdown",
   "metadata": {},
   "source": [
    "### Übung 6a:\n",
    "Welche Ausgaben werden durch die folgenden Programmfragmente erzeugt?"
   ]
  },
  {
   "cell_type": "code",
   "execution_count": 1,
   "metadata": {},
   "outputs": [
    {
     "name": "stdout",
     "output_type": "stream",
     "text": [
      "1\n",
      "2\n",
      "3\n",
      "4\n",
      "5\n"
     ]
    }
   ],
   "source": [
    "for i in range(4, 24, 4):\n",
    "    print(i // 4)"
   ]
  },
  {
   "cell_type": "code",
   "execution_count": 2,
   "metadata": {},
   "outputs": [],
   "source": [
    "for i in range(10,0):\n",
    "    print(i)"
   ]
  },
  {
   "cell_type": "code",
   "execution_count": 3,
   "metadata": {},
   "outputs": [
    {
     "name": "stdout",
     "output_type": "stream",
     "text": [
      "33\n",
      "30\n",
      "27\n",
      "24\n"
     ]
    }
   ],
   "source": [
    "for i in range(33, 21, -3):\n",
    "    print(i)"
   ]
  },
  {
   "cell_type": "code",
   "execution_count": 4,
   "metadata": {},
   "outputs": [
    {
     "name": "stdout",
     "output_type": "stream",
     "text": [
      "1\n",
      "2\n",
      "4\n",
      "8\n",
      "16\n",
      "32\n",
      "64\n",
      "128\n",
      "256\n",
      "512\n"
     ]
    }
   ],
   "source": [
    "j=1\n",
    "for i in range(0,10):\n",
    "    print(j)\n",
    "    j = j*2"
   ]
  },
  {
   "cell_type": "code",
   "execution_count": 5,
   "metadata": {},
   "outputs": [
    {
     "name": "stdout",
     "output_type": "stream",
     "text": [
      "0\n",
      "0\n",
      "0\n",
      "0\n",
      "0\n",
      "0\n",
      "0\n",
      "0\n",
      "0\n",
      "0\n",
      "0\n"
     ]
    }
   ],
   "source": [
    "j=1\n",
    "for i in range(0,11):\n",
    "    j = j*i\n",
    "    print(j)"
   ]
  },
  {
   "cell_type": "code",
   "execution_count": 6,
   "metadata": {},
   "outputs": [
    {
     "name": "stdout",
     "output_type": "stream",
     "text": [
      "1\n",
      "2\n",
      "6\n",
      "24\n",
      "120\n",
      "720\n",
      "5040\n",
      "40320\n",
      "362880\n",
      "3628800\n"
     ]
    }
   ],
   "source": [
    "j=1\n",
    "for i in range(1,11):\n",
    "    j = j*i\n",
    "    print(j)"
   ]
  },
  {
   "cell_type": "markdown",
   "metadata": {
    "heading_collapsed": true
   },
   "source": [
    "### Übung 6b\n",
    "Schreiben Sie for-Schleifen in Python, die folgende Ausgaben auf der Konsole erzeugen (die Punkte deuten eine entsprechende Fortsetzung mit X’en an). Die Anzahl der Zeilen soll dabei variabel sein."
   ]
  },
  {
   "cell_type": "code",
   "execution_count": 11,
   "metadata": {
    "hidden": true
   },
   "outputs": [
    {
     "name": "stdout",
     "output_type": "stream",
     "text": [
      "X\n",
      "XX\n",
      "XXX\n",
      "XXXX\n",
      "XXXXX\n",
      "XXXXXX\n"
     ]
    }
   ],
   "source": [
    "#6b.a\n",
    "j=1\n",
    "\n",
    "for i in range(6):\n",
    "    print(\"X\"*j)\n",
    "    j+=1"
   ]
  },
  {
   "cell_type": "code",
   "execution_count": 5,
   "metadata": {
    "hidden": true
   },
   "outputs": [
    {
     "name": "stdout",
     "output_type": "stream",
     "text": [
      " X\n",
      "  X\n",
      "   X\n",
      "    X\n",
      "     X\n",
      "      X\n"
     ]
    }
   ],
   "source": [
    "#6b.b\n",
    "n=\" \"\n",
    "for i in range(6):\n",
    "    print(n+\"X\")\n",
    "    n = \" \" + n"
   ]
  },
  {
   "cell_type": "code",
   "execution_count": 3,
   "metadata": {
    "hidden": true
   },
   "outputs": [
    {
     "name": "stdout",
     "output_type": "stream",
     "text": [
      "     X\n",
      "    X\n",
      "   X\n",
      "  X\n",
      " X\n",
      "X\n"
     ]
    }
   ],
   "source": [
    "#6b.c\n",
    "for y in range(6,0,-1):\n",
    "    x = \" \"*(y-1) +\"X\"\n",
    "    print(x)"
   ]
  },
  {
   "cell_type": "code",
   "execution_count": 14,
   "metadata": {
    "hidden": true
   },
   "outputs": [
    {
     "name": "stdout",
     "output_type": "stream",
     "text": [
      "X    X\n",
      " X  X \n",
      "  XX  \n",
      "  XX  \n",
      " X  X \n",
      "X    X\n"
     ]
    }
   ],
   "source": [
    "#6b.d\n",
    "#nur mit 6 als zahl\n",
    "i=6\n",
    "for y in range(i):\n",
    "    if(y<i/2):\n",
    "        print(\" \"*y + \"X\" +\" \"*(i-y*2-2)+\"X\"+\" \"*y )\n",
    "    elif (y>=i/2):\n",
    "        print(\" \"*(i-y-1)+\"X\"+\" \"*(y*2-i)+\"X\"+\" \"*(i-y-1))"
   ]
  },
  {
   "cell_type": "code",
   "execution_count": 31,
   "metadata": {
    "hidden": true
   },
   "outputs": [
    {
     "name": "stdout",
     "output_type": "stream",
     "text": [
      "X         X\n",
      " X       X \n",
      "  X     X  \n",
      "   X   X   \n",
      "    X X    \n",
      "     X \n",
      "    X X    \n",
      "   X   X   \n",
      "  X     X  \n",
      " X       X \n",
      "X         X\n"
     ]
    }
   ],
   "source": [
    "#6b.d\n",
    "#nur mit variabler zahl\n",
    "i=11\n",
    "for y in range(i):\n",
    "    if(i%2==1): \n",
    "        if(y<i//2):\n",
    "            print(\" \"*y + \"X\" +\" \"*(i-y*2-2)+\"X\"+\" \"*y )\n",
    "        elif (y==i//2):\n",
    "            print(\" \"*y+\"X\"+\" \")\n",
    "        elif (y>i/2):\n",
    "            print(\" \"*(i-y-1)+\"X\"+\" \"*(y*2-i)+\"X\"+\" \"*(i-y-1))\n",
    "    \n",
    "    else:\n",
    "        if(y<i/2):\n",
    "            print(\" \"*y + \"X\" +\" \"*(i-y*2-2)+\"X\"+\" \"*y )\n",
    "        elif (y>=i/2):\n",
    "            print(\" \"*(i-y-1)+\"X\"+\" \"*(y*2-i)+\"X\"+\" \"*(i-y-1))\n",
    "    "
   ]
  },
  {
   "cell_type": "code",
   "execution_count": null,
   "metadata": {
    "hidden": true
   },
   "outputs": [],
   "source": []
  }
 ],
 "metadata": {
  "kernelspec": {
   "display_name": "Python 3",
   "language": "python",
   "name": "python3"
  },
  "language_info": {
   "codemirror_mode": {
    "name": "ipython",
    "version": 3
   },
   "file_extension": ".py",
   "mimetype": "text/x-python",
   "name": "python",
   "nbconvert_exporter": "python",
   "pygments_lexer": "ipython3",
   "version": "3.8.5"
  },
  "toc": {
   "base_numbering": 1,
   "nav_menu": {},
   "number_sections": true,
   "sideBar": true,
   "skip_h1_title": false,
   "title_cell": "Table of Contents",
   "title_sidebar": "Contents",
   "toc_cell": false,
   "toc_position": {},
   "toc_section_display": true,
   "toc_window_display": true
  }
 },
 "nbformat": 4,
 "nbformat_minor": 2
}
